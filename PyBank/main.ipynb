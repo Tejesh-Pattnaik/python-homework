{
  "nbformat": 4,
  "nbformat_minor": 0,
  "metadata": {
    "colab": {
      "provenance": []
    },
    "kernelspec": {
      "name": "python3",
      "display_name": "Python 3"
    },
    "language_info": {
      "name": "python"
    }
  },
  "cells": [
    {
      "cell_type": "code",
      "execution_count": null,
      "metadata": {
        "id": "KiIWccgoXWSz",
        "colab": {
          "base_uri": "https://localhost:8080/"
        },
        "outputId": "e0b15bbd-f9ea-4800-85c4-17b75e9a4f5d"
      },
      "outputs": [
        {
          "output_type": "stream",
          "name": "stdout",
          "text": [
            "Financial Analysis\n",
            "------------------\n",
            "Total Months: 86\n",
            "Total: $38382578\n",
            "Average Change: $-2315.12\n",
            "Greatest Increase in Profits: Feb-2012 ($1926159)\n",
            "Greatest Decrease in Profits: Sep-2013 ($-2196167)\n"
          ]
        }
      ],
      "source": [
        "import csv\n",
        "\n",
        "# Define the file path to your CSV data\n",
        "csv_file = 'budget_data.csv'  # Update the file name here\n",
        "\n",
        "# Initialize variables to store financial data\n",
        "total_months = 0\n",
        "net_total = 0\n",
        "previous_profit_loss = 0\n",
        "monthly_changes = []\n",
        "greatest_increase = {\"date\": \"\", \"amount\": 0}\n",
        "greatest_decrease = {\"date\": \"\", \"amount\": 0}\n",
        "\n",
        "# Open the CSV file and create a CSV reader\n",
        "with open(csv_file, 'r') as file:\n",
        "    csv_reader = csv.DictReader(file)\n",
        "\n",
        "    # Loop through the rows\n",
        "    for row in csv_reader:\n",
        "        date = row['Date']\n",
        "        profit_loss = int(row['Profit/Losses'])\n",
        "\n",
        "        # Calculate the total number of months\n",
        "        total_months += 1\n",
        "\n",
        "        # Calculate the net total amount of Profit/Losses\n",
        "        net_total += profit_loss\n",
        "\n",
        "        # Calculate the monthly change in Profit/Losses\n",
        "        if total_months > 1:\n",
        "            monthly_change = profit_loss - previous_profit_loss\n",
        "            monthly_changes.append(monthly_change)\n",
        "\n",
        "            # Find the greatest increase and decrease\n",
        "            if monthly_change > greatest_increase[\"amount\"]:\n",
        "                greatest_increase[\"date\"] = date\n",
        "                greatest_increase[\"amount\"] = monthly_change\n",
        "            if monthly_change < greatest_decrease[\"amount\"]:\n",
        "                greatest_decrease[\"date\"] = date\n",
        "                greatest_decrease[\"amount\"] = monthly_change\n",
        "\n",
        "        # Store the current month's profit/loss for the next iteration\n",
        "        previous_profit_loss = profit_loss\n",
        "\n",
        "# Calculate the average change in Profit/Losses\n",
        "average_change = sum(monthly_changes) / len(monthly_changes)\n",
        "\n",
        "# Print the financial analysis results\n",
        "print(\"Financial Analysis\")\n",
        "print(\"------------------\")\n",
        "print(f\"Total Months: {total_months}\")\n",
        "print(f\"Total: ${net_total}\")\n",
        "print(f\"Average Change: ${average_change:.2f}\")\n",
        "print(f\"Greatest Increase in Profits: {greatest_increase['date']} (${greatest_increase['amount']})\")\n",
        "print(f\"Greatest Decrease in Profits: {greatest_decrease['date']} (${greatest_decrease['amount']})\")"
      ]
    },
    {
      "cell_type": "markdown",
      "source": [],
      "metadata": {
        "id": "MP6EswmxdY92"
      }
    }
  ]
}